{
 "cells": [
  {
   "cell_type": "raw",
   "metadata": {},
   "source": [
    "# Crime Master - Merge (2017 + 2018)\n",
    "# Crime Master - Initial Analysis\n"
   ]
  },
  {
   "cell_type": "code",
   "execution_count": 1,
   "metadata": {},
   "outputs": [
    {
     "data": {
      "text/html": [
       "<div>\n",
       "<style scoped>\n",
       "    .dataframe tbody tr th:only-of-type {\n",
       "        vertical-align: middle;\n",
       "    }\n",
       "\n",
       "    .dataframe tbody tr th {\n",
       "        vertical-align: top;\n",
       "    }\n",
       "\n",
       "    .dataframe thead th {\n",
       "        text-align: right;\n",
       "    }\n",
       "</style>\n",
       "<table border=\"1\" class=\"dataframe\">\n",
       "  <thead>\n",
       "    <tr style=\"text-align: right;\">\n",
       "      <th></th>\n",
       "      <th>ID</th>\n",
       "      <th>Date</th>\n",
       "      <th>IUCR</th>\n",
       "      <th>Primary Type</th>\n",
       "      <th>Description</th>\n",
       "      <th>Location Description</th>\n",
       "      <th>District</th>\n",
       "      <th>Ward</th>\n",
       "      <th>Community Area</th>\n",
       "      <th>FBI Code</th>\n",
       "      <th>X Coordinate</th>\n",
       "      <th>Y Coordinate</th>\n",
       "      <th>Year</th>\n",
       "      <th>Latitude</th>\n",
       "      <th>Longitude</th>\n",
       "      <th>Geometry</th>\n",
       "    </tr>\n",
       "  </thead>\n",
       "  <tbody>\n",
       "    <tr>\n",
       "      <th>0</th>\n",
       "      <td>23059</td>\n",
       "      <td>1/1/2017 5:19</td>\n",
       "      <td>110</td>\n",
       "      <td>HOMICIDE</td>\n",
       "      <td>FIRST DEGREE MURDER</td>\n",
       "      <td>TAVERN</td>\n",
       "      <td>19</td>\n",
       "      <td>46</td>\n",
       "      <td>3</td>\n",
       "      <td>01A</td>\n",
       "      <td>1167937.0</td>\n",
       "      <td>1930954.0</td>\n",
       "      <td>2017</td>\n",
       "      <td>41.966082</td>\n",
       "      <td>-87.657908</td>\n",
       "      <td>(41.966081547, -87.657908498)</td>\n",
       "    </tr>\n",
       "  </tbody>\n",
       "</table>\n",
       "</div>"
      ],
      "text/plain": [
       "      ID           Date IUCR Primary Type          Description  \\\n",
       "0  23059  1/1/2017 5:19  110     HOMICIDE  FIRST DEGREE MURDER   \n",
       "\n",
       "  Location Description  District  Ward  Community Area FBI Code  X Coordinate  \\\n",
       "0               TAVERN        19    46               3      01A     1167937.0   \n",
       "\n",
       "   Y Coordinate  Year   Latitude  Longitude                       Geometry  \n",
       "0     1930954.0  2017  41.966082 -87.657908  (41.966081547, -87.657908498)  "
      ]
     },
     "execution_count": 1,
     "metadata": {},
     "output_type": "execute_result"
    }
   ],
   "source": [
    "# Dependencies and Setup\n",
    "import pandas as pd\n",
    "import numpy as np\n",
    "\n",
    "crimes_master_2017 = \"Resources/Crimes_MASTER_2017_fromGit.csv\"\n",
    "crimes_master_2018 = \"Resources/Crimes_MASTER_2018_fromGit.csv\"\n",
    "\n",
    "crime_2017 = pd.read_csv(crimes_master_2017)\n",
    "crime_2018 = pd.read_csv(crimes_master_2018)\n",
    "\n",
    "crime_2017.head(1)"
   ]
  },
  {
   "cell_type": "code",
   "execution_count": 2,
   "metadata": {},
   "outputs": [
    {
     "data": {
      "text/html": [
       "<div>\n",
       "<style scoped>\n",
       "    .dataframe tbody tr th:only-of-type {\n",
       "        vertical-align: middle;\n",
       "    }\n",
       "\n",
       "    .dataframe tbody tr th {\n",
       "        vertical-align: top;\n",
       "    }\n",
       "\n",
       "    .dataframe thead th {\n",
       "        text-align: right;\n",
       "    }\n",
       "</style>\n",
       "<table border=\"1\" class=\"dataframe\">\n",
       "  <thead>\n",
       "    <tr style=\"text-align: right;\">\n",
       "      <th></th>\n",
       "      <th>ID</th>\n",
       "      <th>Date</th>\n",
       "      <th>IUCR</th>\n",
       "      <th>Primary Type</th>\n",
       "      <th>Description</th>\n",
       "      <th>Location Description</th>\n",
       "      <th>District</th>\n",
       "      <th>Ward</th>\n",
       "      <th>Community Area</th>\n",
       "      <th>FBI Code</th>\n",
       "      <th>X Coordinate</th>\n",
       "      <th>Y Coordinate</th>\n",
       "      <th>Year</th>\n",
       "      <th>Latitude</th>\n",
       "      <th>Longitude</th>\n",
       "      <th>Geometry</th>\n",
       "    </tr>\n",
       "  </thead>\n",
       "  <tbody>\n",
       "    <tr>\n",
       "      <th>0</th>\n",
       "      <td>11249232</td>\n",
       "      <td>1/1/2018 0:00</td>\n",
       "      <td>1562</td>\n",
       "      <td>SEX OFFENSE</td>\n",
       "      <td>AGG CRIMINAL SEXUAL ABUSE</td>\n",
       "      <td>RESIDENCE</td>\n",
       "      <td>5</td>\n",
       "      <td>9.0</td>\n",
       "      <td>50</td>\n",
       "      <td>17</td>\n",
       "      <td>1182937.0</td>\n",
       "      <td>1829821.0</td>\n",
       "      <td>2018</td>\n",
       "      <td>41.688228</td>\n",
       "      <td>-87.605905</td>\n",
       "      <td>(41.688227926, -87.605905475)</td>\n",
       "    </tr>\n",
       "  </tbody>\n",
       "</table>\n",
       "</div>"
      ],
      "text/plain": [
       "         ID           Date  IUCR Primary Type                Description  \\\n",
       "0  11249232  1/1/2018 0:00  1562  SEX OFFENSE  AGG CRIMINAL SEXUAL ABUSE   \n",
       "\n",
       "  Location Description  District  Ward  Community Area FBI Code  X Coordinate  \\\n",
       "0            RESIDENCE         5   9.0              50       17     1182937.0   \n",
       "\n",
       "   Y Coordinate  Year   Latitude  Longitude                       Geometry  \n",
       "0     1829821.0  2018  41.688228 -87.605905  (41.688227926, -87.605905475)  "
      ]
     },
     "execution_count": 2,
     "metadata": {},
     "output_type": "execute_result"
    }
   ],
   "source": [
    "crime_2018.head(1)"
   ]
  },
  {
   "cell_type": "code",
   "execution_count": 3,
   "metadata": {},
   "outputs": [
    {
     "data": {
      "text/plain": [
       "array([[23059, '1/1/2017 5:19', '110', ..., 41.96608155,\n",
       "        -87.65790849999999, '(41.966081547, -87.657908498)'],\n",
       "       [23067, '1/7/2017 10:07', '110', ..., 41.86427335, -87.66023297,\n",
       "        '(41.864273353, -87.660232974)'],\n",
       "       [23092, '1/19/2017 10:01', '110', ..., 41.76417303, -87.65044877,\n",
       "        '(41.764173033, -87.650448772)'],\n",
       "       ...,\n",
       "       [11552603, '12/31/2018 23:43', '143A', ..., 41.76463209,\n",
       "        -87.62831164, '(41.764632089, -87.628311641)'],\n",
       "       [11552570, '12/31/2018 23:44', '1330', ..., 41.96846289,\n",
       "        -87.65967044, '(41.968462892, -87.659670442)'],\n",
       "       [11552724, '12/31/2018 23:56', '440', ..., 41.857068100000006,\n",
       "        -87.6576252, '(41.857068095, -87.657625201)']], dtype=object)"
      ]
     },
     "execution_count": 3,
     "metadata": {},
     "output_type": "execute_result"
    }
   ],
   "source": [
    "crime_master2 = np.concatenate([crime_2017,crime_2018],axis=0)\n",
    "crime_master2"
   ]
  },
  {
   "cell_type": "code",
   "execution_count": 4,
   "metadata": {},
   "outputs": [
    {
     "data": {
      "text/html": [
       "<div>\n",
       "<style scoped>\n",
       "    .dataframe tbody tr th:only-of-type {\n",
       "        vertical-align: middle;\n",
       "    }\n",
       "\n",
       "    .dataframe tbody tr th {\n",
       "        vertical-align: top;\n",
       "    }\n",
       "\n",
       "    .dataframe thead th {\n",
       "        text-align: right;\n",
       "    }\n",
       "</style>\n",
       "<table border=\"1\" class=\"dataframe\">\n",
       "  <thead>\n",
       "    <tr style=\"text-align: right;\">\n",
       "      <th></th>\n",
       "      <th>ID</th>\n",
       "      <th>Date</th>\n",
       "      <th>IUCR</th>\n",
       "      <th>Primary Type</th>\n",
       "      <th>Description</th>\n",
       "      <th>Location Description</th>\n",
       "      <th>District</th>\n",
       "      <th>Ward</th>\n",
       "      <th>Community Area</th>\n",
       "      <th>FBI Code</th>\n",
       "      <th>X Coordinate</th>\n",
       "      <th>Y Coordinate</th>\n",
       "      <th>Year</th>\n",
       "      <th>Latitude</th>\n",
       "      <th>Longitude</th>\n",
       "      <th>Geometry</th>\n",
       "    </tr>\n",
       "  </thead>\n",
       "  <tbody>\n",
       "    <tr>\n",
       "      <th>0</th>\n",
       "      <td>23059</td>\n",
       "      <td>1/1/2017 5:19</td>\n",
       "      <td>110</td>\n",
       "      <td>HOMICIDE</td>\n",
       "      <td>FIRST DEGREE MURDER</td>\n",
       "      <td>TAVERN</td>\n",
       "      <td>19</td>\n",
       "      <td>46.0</td>\n",
       "      <td>3</td>\n",
       "      <td>01A</td>\n",
       "      <td>1167937.0</td>\n",
       "      <td>1930954.0</td>\n",
       "      <td>2017</td>\n",
       "      <td>41.966082</td>\n",
       "      <td>-87.657908</td>\n",
       "      <td>(41.966081547, -87.657908498)</td>\n",
       "    </tr>\n",
       "  </tbody>\n",
       "</table>\n",
       "</div>"
      ],
      "text/plain": [
       "      ID           Date IUCR Primary Type          Description  \\\n",
       "0  23059  1/1/2017 5:19  110     HOMICIDE  FIRST DEGREE MURDER   \n",
       "\n",
       "  Location Description  District  Ward  Community Area FBI Code  X Coordinate  \\\n",
       "0               TAVERN        19  46.0               3      01A     1167937.0   \n",
       "\n",
       "   Y Coordinate  Year   Latitude  Longitude                       Geometry  \n",
       "0     1930954.0  2017  41.966082 -87.657908  (41.966081547, -87.657908498)  "
      ]
     },
     "execution_count": 4,
     "metadata": {},
     "output_type": "execute_result"
    }
   ],
   "source": [
    "crime_master = pd.concat((crime_2017,crime_2018),axis=0,join='outer',join_axes=None,ignore_index=False)\n",
    "crime_master.head(1)"
   ]
  },
  {
   "cell_type": "code",
   "execution_count": 5,
   "metadata": {},
   "outputs": [],
   "source": [
    "crime_master.to_csv(\"Resources/Crimes_MASTER_merged.csv\",index=False,header=True)"
   ]
  }
 ],
 "metadata": {
  "anaconda-cloud": {},
  "kernel_info": {
   "name": "python3"
  },
  "kernelspec": {
   "display_name": "Python 3",
   "language": "python",
   "name": "python3"
  },
  "language_info": {
   "codemirror_mode": {
    "name": "ipython",
    "version": 3
   },
   "file_extension": ".py",
   "mimetype": "text/x-python",
   "name": "python",
   "nbconvert_exporter": "python",
   "pygments_lexer": "ipython3",
   "version": "3.7.3"
  },
  "nteract": {
   "version": "0.8.4"
  }
 },
 "nbformat": 4,
 "nbformat_minor": 1
}
